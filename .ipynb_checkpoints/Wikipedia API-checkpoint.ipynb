{
 "cells": [
  {
   "cell_type": "markdown",
   "metadata": {},
   "source": [
    "# Accessing the Wikipedia API\n",
    "This notebook pulls some information from the Wikipedia API. This API is nice because it doesn't require authentication. (The Twitter API requires authentication--that's a necessary process to go through, but requires some work.) "
   ]
  },
  {
   "cell_type": "code",
   "execution_count": null,
   "metadata": {
    "collapsed": true
   },
   "outputs": [],
   "source": [
    "import requests\n",
    "\n",
    "wikipedia_api_url = \"https://en.wikipedia.org/w/api.php?action=query&format=json&list=categorymembers&cmlimit=10\""
   ]
  },
  {
   "cell_type": "markdown",
   "metadata": {},
   "source": [
    "We can start by just building a simple query, getting 10 people born in 1973. We will use the delightful and amazing [`requests`](http://docs.python-requests.org/en/master/) library in Python. The format of the URL is based on a bunch of reading about the [Wikipedia API](https://www.mediawiki.org/wiki/API:Categorymembers) and trial and error. And error. "
   ]
  },
  {
   "cell_type": "code",
   "execution_count": null,
   "metadata": {
    "collapsed": false
   },
   "outputs": [],
   "source": [
    "full_url = wikipedia_api_url + \"&cmtitle=Category:1973_births\"\n",
    "\n",
    "print(full_url)\n",
    "\n",
    "r = requests.get(full_url)"
   ]
  },
  {
   "cell_type": "markdown",
   "metadata": {},
   "source": [
    "Feel free to click on the link above. You'll see a `pprint` version of what was returned. Thanks Wikipedia!\n",
    "\n",
    "In this next cell, type `r.` + tab and look at all the options you have to complete the request object."
   ]
  },
  {
   "cell_type": "code",
   "execution_count": null,
   "metadata": {
    "collapsed": false
   },
   "outputs": [],
   "source": [
    "r."
   ]
  },
  {
   "cell_type": "markdown",
   "metadata": {},
   "source": [
    "One of the most useful is `r.json()`."
   ]
  },
  {
   "cell_type": "code",
   "execution_count": null,
   "metadata": {
    "collapsed": false
   },
   "outputs": [],
   "source": [
    "r.json()"
   ]
  },
  {
   "cell_type": "markdown",
   "metadata": {},
   "source": [
    "Compare these results to the entry: https://en.wikipedia.org/wiki/Category:1973_births.\n",
    "\n",
    "JSON objects look a lot like Python dictonaries. In this case, we've got three main keys, `batchcomplete`, `continue`, and `query`."
   ]
  },
  {
   "cell_type": "code",
   "execution_count": null,
   "metadata": {
    "collapsed": false
   },
   "outputs": [],
   "source": [
    "for item in r.json() :\n",
    "    print(item)"
   ]
  },
  {
   "cell_type": "markdown",
   "metadata": {},
   "source": [
    "`batchcomplete` tells us if we're done, I think. `continue` is used to continue through the results since we can't request more than 500 items at once. And `query` has the results. "
   ]
  },
  {
   "cell_type": "code",
   "execution_count": null,
   "metadata": {
    "collapsed": false
   },
   "outputs": [],
   "source": [
    "for item in r.json()['query']['categorymembers'] :\n",
    "    print(item)"
   ]
  },
  {
   "cell_type": "markdown",
   "metadata": {},
   "source": [
    "Now let's build a list of everyone born in 1973. I've added a way to get out using an interation counter. Change the `iteration > n` line to get a different number of pages of results or make it something like 50 to get all the names. "
   ]
  },
  {
   "cell_type": "code",
   "execution_count": null,
   "metadata": {
    "collapsed": false
   },
   "outputs": [],
   "source": [
    "# Let's build up our request in a more sustainable way\n",
    "req = {'action':'query',\n",
    "       'format':'json',\n",
    "       'list':'categorymembers',\n",
    "       'cmlimit':500, # move the limit up to the max we can do.\n",
    "       'cmtitle':'Category:1973_births'}\n",
    "\n",
    "last_continue = {} # used to keep track of how far we've gone. \n",
    "iteration = 1\n",
    "pages = 0\n",
    "\n",
    "names = []\n",
    "\n",
    "while True :\n",
    "    # Modify it with the values returned in the 'continue' section of the last result.\n",
    "    req.update(last_continue)\n",
    "    \n",
    "    # Call API\n",
    "    result = requests.get('https://en.wikipedia.org/w/api.php', params=req).json() \n",
    "    \n",
    "    pages += 1\n",
    "    \n",
    "    # Grab the names\n",
    "    for item in result['query']['categorymembers'] :\n",
    "        names.append(item['title'])\n",
    "    \n",
    "    # keep track of our iteration so we can exit if this runs forever\n",
    "    iteration += 1\n",
    "    \n",
    "    # Can we get out?\n",
    "    if 'continue' not in result :\n",
    "        break\n",
    "    else :\n",
    "        last_continue = result['continue']\n",
    "    \n",
    "    if iteration > 300 :\n",
    "        # it's useful to have a way out of while statements\n",
    "        break \n",
    "\n",
    "print(\"We pulled {} pages\".format(pages))"
   ]
  },
  {
   "cell_type": "markdown",
   "metadata": {},
   "source": [
    "Let's talk through the above code. \n",
    "\n",
    "To see what's going on, I'll print the first 10 names and the last 10 names."
   ]
  },
  {
   "cell_type": "code",
   "execution_count": null,
   "metadata": {
    "collapsed": false
   },
   "outputs": [],
   "source": [
    "print(names[:10])\n",
    "print(names[-10:])"
   ]
  },
  {
   "cell_type": "markdown",
   "metadata": {},
   "source": [
    "Now your turn. Pick a year, pull all the names for people born in that year, and count up the most common first names and last names. "
   ]
  }
 ],
 "metadata": {
  "kernelspec": {
   "display_name": "Python 3",
   "language": "python",
   "name": "python3"
  },
  "language_info": {
   "codemirror_mode": {
    "name": "ipython",
    "version": 3
   },
   "file_extension": ".py",
   "mimetype": "text/x-python",
   "name": "python",
   "nbconvert_exporter": "python",
   "pygments_lexer": "ipython3",
   "version": "3.6.2"
  }
 },
 "nbformat": 4,
 "nbformat_minor": 2
}
